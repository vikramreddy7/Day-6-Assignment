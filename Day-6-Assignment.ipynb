{
 "cells": [
  {
   "cell_type": "markdown",
   "metadata": {},
   "source": [
    "# Assignment-1"
   ]
  },
  {
   "cell_type": "markdown",
   "metadata": {},
   "source": [
    "# For this challenge,create a bank account class that has two attributes\n",
    "*ownerName\n",
    "*Balance\n",
    "And two methods\n",
    "*deposit\n",
    "*withdraw\n",
    "As an added requirement,withdrawals may not exceed the available balance.\n",
    "Instantiate your class,make several deposits and withdrawals,and test to make sure the account\n",
    "cant be overdrawn."
   ]
  },
  {
   "cell_type": "code",
   "execution_count": 9,
   "metadata": {},
   "outputs": [
    {
     "name": "stdout",
     "output_type": "stream",
     "text": [
      "\n",
      "---WELCOME TO BACK ACCOUNT PROGRAM---\n",
      "\n",
      "Account Holder Name is : vikram\n",
      "\n",
      "Initial Account Balance is : 0\n",
      "\n",
      "Enter amount to be Deposited : 10000\n",
      "\n",
      "Amount Deposited is : 10000.0\n",
      "\n",
      "Enter amount to be Withdrawn : 5000\n",
      "\n",
      "You have Withdrew : 5000.0\n",
      "\n",
      "Net Avaliable balance is :  5000.0\n"
     ]
    }
   ],
   "source": [
    "class BankAccount: \n",
    "\n",
    "    def __init__(self): \n",
    "\n",
    "        self.ownerName=\"vikram\"\n",
    "        \n",
    "        self.Balance=0\n",
    "        \n",
    "    def deposit(self): \n",
    "        \n",
    "        Amount=float(input(\"\\nEnter amount to be Deposited : \")) \n",
    "        \n",
    "        self.Balance += Amount \n",
    "        \n",
    "        print(\"\\nAmount Deposited is :\",Amount) \n",
    "  \n",
    "    def withdraw(self): \n",
    "        \n",
    "        Amount = float(input(\"\\nEnter amount to be Withdrawn : \")) \n",
    "        \n",
    "        if self.Balance >= Amount: \n",
    "        \n",
    "            self.Balance -= Amount \n",
    "            \n",
    "            print(\"\\nYou have Withdrew :\", Amount) \n",
    "        \n",
    "        else: \n",
    "        \n",
    "            print(\"\\nInsufficient balance in the account...\") \n",
    "\n",
    "print(\"\\n---WELCOME TO BACK ACCOUNT PROGRAM---\")\n",
    "    \n",
    "BA = BankAccount()\n",
    "\n",
    "print(\"\\nAccount Holder Name is :\",BA.ownerName)\n",
    "    \n",
    "print(\"\\nInitial Account Balance is :\",BA.Balance)\n",
    "   \n",
    "BA.deposit();\n",
    "    \n",
    "BA.withdraw();\n",
    "    \n",
    "print(\"\\nNet Avaliable balance is : \",BA.Balance)"
   ]
  },
  {
   "cell_type": "markdown",
   "metadata": {},
   "source": [
    "# Assignment-2"
   ]
  },
  {
   "cell_type": "markdown",
   "metadata": {},
   "source": [
    "# For this challenge,create a cone class that has two attributes:\n",
    "*R=Radius\n",
    "*h=Height\n",
    "And two methods:\n",
    "*Volume = Π * r2 = (h/3)\n",
    "*Surface area : base : Π * r2 , side : Π * r * √(r2 + h2)\n",
    "Make only one class with functions,as in where required import Math."
   ]
  },
  {
   "cell_type": "code",
   "execution_count": 10,
   "metadata": {},
   "outputs": [],
   "source": [
    "import math\n",
    "\n",
    "pi = math.pi\n",
    "\n",
    "class cone:\n",
    "    \n",
    "    def __init__(self,r,h): \n",
    "\n",
    "        self.r=r\n",
    "        \n",
    "        self.h=h\n",
    "        \n",
    "    def volume(self):\n",
    "        \n",
    "        result = (1 / 3) * pi * self.r * self.r * self.h\n",
    "        \n",
    "        print(\"\\nVolume Of Cone is :\",result)\n",
    "        \n",
    "    def surfacearea(self):\n",
    "        \n",
    "        result = pi * self.r * self.h + pi * self.r * self.r\n",
    "         \n",
    "        print(\"\\nSurface Area Of Cone is :\",result)"
   ]
  },
  {
   "cell_type": "code",
   "execution_count": 11,
   "metadata": {},
   "outputs": [
    {
     "name": "stdout",
     "output_type": "stream",
     "text": [
      "\n",
      "Enter the radius of cone : 5.5\n",
      "\n",
      "Enter the height of cone : 7\n",
      "\n",
      "Volume Of Cone is : 221.74408146587956\n",
      "\n",
      "Surface Area Of Cone is : 215.98449493429825\n"
     ]
    }
   ],
   "source": [
    "radius = float(input(\"\\nEnter the radius of cone : \"))\n",
    "\n",
    "height = float(input(\"\\nEnter the height of cone : \"))\n",
    "\n",
    "c = cone( ra, he)\n",
    "\n",
    "c.volume()\n",
    "\n",
    "c.surfacearea()"
   ]
  },
  {
   "cell_type": "code",
   "execution_count": null,
   "metadata": {},
   "outputs": [],
   "source": []
  }
 ],
 "metadata": {
  "kernelspec": {
   "display_name": "Python 3",
   "language": "python",
   "name": "python3"
  },
  "language_info": {
   "codemirror_mode": {
    "name": "ipython",
    "version": 3
   },
   "file_extension": ".py",
   "mimetype": "text/x-python",
   "name": "python",
   "nbconvert_exporter": "python",
   "pygments_lexer": "ipython3",
   "version": "3.8.3"
  }
 },
 "nbformat": 4,
 "nbformat_minor": 4
}
